{
 "cells": [
  {
   "cell_type": "code",
   "execution_count": 1,
   "id": "3269b61f",
   "metadata": {},
   "outputs": [],
   "source": [
    "import numpy as np"
   ]
  },
  {
   "cell_type": "code",
   "execution_count": 3,
   "id": "6cbdf8c9",
   "metadata": {},
   "outputs": [],
   "source": [
    "import pandas as pd\n",
    "import matplotlib.pyplot as plt\n",
    "import seaborn as sns\n",
    "%matplotlib inline"
   ]
  },
  {
   "cell_type": "code",
   "execution_count": 4,
   "id": "8853954c",
   "metadata": {},
   "outputs": [],
   "source": [
    "df = pd.read_csv('ratings.csv')"
   ]
  },
  {
   "cell_type": "code",
   "execution_count": 73,
   "id": "6df2a124",
   "metadata": {},
   "outputs": [],
   "source": [
    "df1 = df.sample(frac=0.01)"
   ]
  },
  {
   "cell_type": "code",
   "execution_count": 74,
   "id": "3c864750",
   "metadata": {},
   "outputs": [
    {
     "data": {
      "text/html": [
       "<div>\n",
       "<style scoped>\n",
       "    .dataframe tbody tr th:only-of-type {\n",
       "        vertical-align: middle;\n",
       "    }\n",
       "\n",
       "    .dataframe tbody tr th {\n",
       "        vertical-align: top;\n",
       "    }\n",
       "\n",
       "    .dataframe thead th {\n",
       "        text-align: right;\n",
       "    }\n",
       "</style>\n",
       "<table border=\"1\" class=\"dataframe\">\n",
       "  <thead>\n",
       "    <tr style=\"text-align: right;\">\n",
       "      <th></th>\n",
       "      <th>userId</th>\n",
       "      <th>movieId</th>\n",
       "      <th>rating</th>\n",
       "      <th>timestamp</th>\n",
       "    </tr>\n",
       "  </thead>\n",
       "  <tbody>\n",
       "    <tr>\n",
       "      <th>16742456</th>\n",
       "      <td>108599</td>\n",
       "      <td>2424</td>\n",
       "      <td>4.0</td>\n",
       "      <td>1153744944</td>\n",
       "    </tr>\n",
       "    <tr>\n",
       "      <th>17044037</th>\n",
       "      <td>110525</td>\n",
       "      <td>798</td>\n",
       "      <td>2.0</td>\n",
       "      <td>1023470838</td>\n",
       "    </tr>\n",
       "    <tr>\n",
       "      <th>18112119</th>\n",
       "      <td>117305</td>\n",
       "      <td>110</td>\n",
       "      <td>4.0</td>\n",
       "      <td>833198831</td>\n",
       "    </tr>\n",
       "    <tr>\n",
       "      <th>18060996</th>\n",
       "      <td>117032</td>\n",
       "      <td>2001</td>\n",
       "      <td>3.0</td>\n",
       "      <td>979942869</td>\n",
       "    </tr>\n",
       "    <tr>\n",
       "      <th>12301726</th>\n",
       "      <td>79677</td>\n",
       "      <td>2312</td>\n",
       "      <td>4.0</td>\n",
       "      <td>966881872</td>\n",
       "    </tr>\n",
       "  </tbody>\n",
       "</table>\n",
       "</div>"
      ],
      "text/plain": [
       "          userId  movieId  rating   timestamp\n",
       "16742456  108599     2424     4.0  1153744944\n",
       "17044037  110525      798     2.0  1023470838\n",
       "18112119  117305      110     4.0   833198831\n",
       "18060996  117032     2001     3.0   979942869\n",
       "12301726   79677     2312     4.0   966881872"
      ]
     },
     "execution_count": 74,
     "metadata": {},
     "output_type": "execute_result"
    }
   ],
   "source": [
    "df1.head()"
   ]
  },
  {
   "cell_type": "code",
   "execution_count": 75,
   "id": "9339941e",
   "metadata": {},
   "outputs": [],
   "source": [
    "movies_titles = pd.read_csv('movies.csv')"
   ]
  },
  {
   "cell_type": "code",
   "execution_count": 76,
   "id": "9b4a4f98",
   "metadata": {},
   "outputs": [
    {
     "data": {
      "text/html": [
       "<div>\n",
       "<style scoped>\n",
       "    .dataframe tbody tr th:only-of-type {\n",
       "        vertical-align: middle;\n",
       "    }\n",
       "\n",
       "    .dataframe tbody tr th {\n",
       "        vertical-align: top;\n",
       "    }\n",
       "\n",
       "    .dataframe thead th {\n",
       "        text-align: right;\n",
       "    }\n",
       "</style>\n",
       "<table border=\"1\" class=\"dataframe\">\n",
       "  <thead>\n",
       "    <tr style=\"text-align: right;\">\n",
       "      <th></th>\n",
       "      <th>movieId</th>\n",
       "      <th>title</th>\n",
       "      <th>genres</th>\n",
       "    </tr>\n",
       "  </thead>\n",
       "  <tbody>\n",
       "    <tr>\n",
       "      <th>0</th>\n",
       "      <td>1</td>\n",
       "      <td>Toy Story (1995)</td>\n",
       "      <td>Adventure|Animation|Children|Comedy|Fantasy</td>\n",
       "    </tr>\n",
       "    <tr>\n",
       "      <th>1</th>\n",
       "      <td>2</td>\n",
       "      <td>Jumanji (1995)</td>\n",
       "      <td>Adventure|Children|Fantasy</td>\n",
       "    </tr>\n",
       "    <tr>\n",
       "      <th>2</th>\n",
       "      <td>3</td>\n",
       "      <td>Grumpier Old Men (1995)</td>\n",
       "      <td>Comedy|Romance</td>\n",
       "    </tr>\n",
       "    <tr>\n",
       "      <th>3</th>\n",
       "      <td>4</td>\n",
       "      <td>Waiting to Exhale (1995)</td>\n",
       "      <td>Comedy|Drama|Romance</td>\n",
       "    </tr>\n",
       "    <tr>\n",
       "      <th>4</th>\n",
       "      <td>5</td>\n",
       "      <td>Father of the Bride Part II (1995)</td>\n",
       "      <td>Comedy</td>\n",
       "    </tr>\n",
       "  </tbody>\n",
       "</table>\n",
       "</div>"
      ],
      "text/plain": [
       "   movieId                               title  \\\n",
       "0        1                    Toy Story (1995)   \n",
       "1        2                      Jumanji (1995)   \n",
       "2        3             Grumpier Old Men (1995)   \n",
       "3        4            Waiting to Exhale (1995)   \n",
       "4        5  Father of the Bride Part II (1995)   \n",
       "\n",
       "                                        genres  \n",
       "0  Adventure|Animation|Children|Comedy|Fantasy  \n",
       "1                   Adventure|Children|Fantasy  \n",
       "2                               Comedy|Romance  \n",
       "3                         Comedy|Drama|Romance  \n",
       "4                                       Comedy  "
      ]
     },
     "execution_count": 76,
     "metadata": {},
     "output_type": "execute_result"
    }
   ],
   "source": [
    "movies_titles.head()"
   ]
  },
  {
   "cell_type": "code",
   "execution_count": 77,
   "id": "dab83f66",
   "metadata": {},
   "outputs": [],
   "source": [
    "df1 = pd.merge(df1,movies_titles,on='movieId')"
   ]
  },
  {
   "cell_type": "code",
   "execution_count": 78,
   "id": "20983149",
   "metadata": {},
   "outputs": [
    {
     "data": {
      "text/html": [
       "<div>\n",
       "<style scoped>\n",
       "    .dataframe tbody tr th:only-of-type {\n",
       "        vertical-align: middle;\n",
       "    }\n",
       "\n",
       "    .dataframe tbody tr th {\n",
       "        vertical-align: top;\n",
       "    }\n",
       "\n",
       "    .dataframe thead th {\n",
       "        text-align: right;\n",
       "    }\n",
       "</style>\n",
       "<table border=\"1\" class=\"dataframe\">\n",
       "  <thead>\n",
       "    <tr style=\"text-align: right;\">\n",
       "      <th></th>\n",
       "      <th>userId</th>\n",
       "      <th>movieId</th>\n",
       "      <th>rating</th>\n",
       "      <th>timestamp</th>\n",
       "      <th>title</th>\n",
       "      <th>genres</th>\n",
       "    </tr>\n",
       "  </thead>\n",
       "  <tbody>\n",
       "    <tr>\n",
       "      <th>0</th>\n",
       "      <td>108599</td>\n",
       "      <td>2424</td>\n",
       "      <td>4.0</td>\n",
       "      <td>1153744944</td>\n",
       "      <td>You've Got Mail (1998)</td>\n",
       "      <td>Comedy|Romance</td>\n",
       "    </tr>\n",
       "    <tr>\n",
       "      <th>1</th>\n",
       "      <td>35657</td>\n",
       "      <td>2424</td>\n",
       "      <td>4.0</td>\n",
       "      <td>1167434143</td>\n",
       "      <td>You've Got Mail (1998)</td>\n",
       "      <td>Comedy|Romance</td>\n",
       "    </tr>\n",
       "    <tr>\n",
       "      <th>2</th>\n",
       "      <td>54330</td>\n",
       "      <td>2424</td>\n",
       "      <td>4.0</td>\n",
       "      <td>956590012</td>\n",
       "      <td>You've Got Mail (1998)</td>\n",
       "      <td>Comedy|Romance</td>\n",
       "    </tr>\n",
       "    <tr>\n",
       "      <th>3</th>\n",
       "      <td>139194</td>\n",
       "      <td>2424</td>\n",
       "      <td>5.0</td>\n",
       "      <td>1551582873</td>\n",
       "      <td>You've Got Mail (1998)</td>\n",
       "      <td>Comedy|Romance</td>\n",
       "    </tr>\n",
       "    <tr>\n",
       "      <th>4</th>\n",
       "      <td>55908</td>\n",
       "      <td>2424</td>\n",
       "      <td>5.0</td>\n",
       "      <td>1202130944</td>\n",
       "      <td>You've Got Mail (1998)</td>\n",
       "      <td>Comedy|Romance</td>\n",
       "    </tr>\n",
       "  </tbody>\n",
       "</table>\n",
       "</div>"
      ],
      "text/plain": [
       "   userId  movieId  rating   timestamp                   title          genres\n",
       "0  108599     2424     4.0  1153744944  You've Got Mail (1998)  Comedy|Romance\n",
       "1   35657     2424     4.0  1167434143  You've Got Mail (1998)  Comedy|Romance\n",
       "2   54330     2424     4.0   956590012  You've Got Mail (1998)  Comedy|Romance\n",
       "3  139194     2424     5.0  1551582873  You've Got Mail (1998)  Comedy|Romance\n",
       "4   55908     2424     5.0  1202130944  You've Got Mail (1998)  Comedy|Romance"
      ]
     },
     "execution_count": 78,
     "metadata": {},
     "output_type": "execute_result"
    }
   ],
   "source": [
    "df1.head()"
   ]
  },
  {
   "cell_type": "code",
   "execution_count": 79,
   "id": "a2fa530f",
   "metadata": {},
   "outputs": [
    {
     "data": {
      "text/html": [
       "<div>\n",
       "<style scoped>\n",
       "    .dataframe tbody tr th:only-of-type {\n",
       "        vertical-align: middle;\n",
       "    }\n",
       "\n",
       "    .dataframe tbody tr th {\n",
       "        vertical-align: top;\n",
       "    }\n",
       "\n",
       "    .dataframe thead th {\n",
       "        text-align: right;\n",
       "    }\n",
       "</style>\n",
       "<table border=\"1\" class=\"dataframe\">\n",
       "  <thead>\n",
       "    <tr style=\"text-align: right;\">\n",
       "      <th></th>\n",
       "      <th>userId</th>\n",
       "      <th>movieId</th>\n",
       "      <th>rating</th>\n",
       "      <th>timestamp</th>\n",
       "      <th>title</th>\n",
       "      <th>genres</th>\n",
       "    </tr>\n",
       "  </thead>\n",
       "  <tbody>\n",
       "    <tr>\n",
       "      <th>43428</th>\n",
       "      <td>58587</td>\n",
       "      <td>50</td>\n",
       "      <td>5.0</td>\n",
       "      <td>828012818</td>\n",
       "      <td>Usual Suspects, The (1995)</td>\n",
       "      <td>Crime|Mystery|Thriller</td>\n",
       "    </tr>\n",
       "    <tr>\n",
       "      <th>43429</th>\n",
       "      <td>57418</td>\n",
       "      <td>50</td>\n",
       "      <td>4.0</td>\n",
       "      <td>1076983608</td>\n",
       "      <td>Usual Suspects, The (1995)</td>\n",
       "      <td>Crime|Mystery|Thriller</td>\n",
       "    </tr>\n",
       "    <tr>\n",
       "      <th>43430</th>\n",
       "      <td>102798</td>\n",
       "      <td>50</td>\n",
       "      <td>5.0</td>\n",
       "      <td>976219396</td>\n",
       "      <td>Usual Suspects, The (1995)</td>\n",
       "      <td>Crime|Mystery|Thriller</td>\n",
       "    </tr>\n",
       "    <tr>\n",
       "      <th>43431</th>\n",
       "      <td>98280</td>\n",
       "      <td>50</td>\n",
       "      <td>4.5</td>\n",
       "      <td>1219313964</td>\n",
       "      <td>Usual Suspects, The (1995)</td>\n",
       "      <td>Crime|Mystery|Thriller</td>\n",
       "    </tr>\n",
       "    <tr>\n",
       "      <th>43432</th>\n",
       "      <td>37643</td>\n",
       "      <td>50</td>\n",
       "      <td>4.0</td>\n",
       "      <td>944966400</td>\n",
       "      <td>Usual Suspects, The (1995)</td>\n",
       "      <td>Crime|Mystery|Thriller</td>\n",
       "    </tr>\n",
       "    <tr>\n",
       "      <th>...</th>\n",
       "      <td>...</td>\n",
       "      <td>...</td>\n",
       "      <td>...</td>\n",
       "      <td>...</td>\n",
       "      <td>...</td>\n",
       "      <td>...</td>\n",
       "    </tr>\n",
       "    <tr>\n",
       "      <th>43971</th>\n",
       "      <td>158767</td>\n",
       "      <td>50</td>\n",
       "      <td>4.0</td>\n",
       "      <td>845266676</td>\n",
       "      <td>Usual Suspects, The (1995)</td>\n",
       "      <td>Crime|Mystery|Thriller</td>\n",
       "    </tr>\n",
       "    <tr>\n",
       "      <th>43972</th>\n",
       "      <td>84372</td>\n",
       "      <td>50</td>\n",
       "      <td>5.0</td>\n",
       "      <td>1139184469</td>\n",
       "      <td>Usual Suspects, The (1995)</td>\n",
       "      <td>Crime|Mystery|Thriller</td>\n",
       "    </tr>\n",
       "    <tr>\n",
       "      <th>43973</th>\n",
       "      <td>21112</td>\n",
       "      <td>50</td>\n",
       "      <td>5.0</td>\n",
       "      <td>1439761449</td>\n",
       "      <td>Usual Suspects, The (1995)</td>\n",
       "      <td>Crime|Mystery|Thriller</td>\n",
       "    </tr>\n",
       "    <tr>\n",
       "      <th>43974</th>\n",
       "      <td>72539</td>\n",
       "      <td>50</td>\n",
       "      <td>4.0</td>\n",
       "      <td>843388931</td>\n",
       "      <td>Usual Suspects, The (1995)</td>\n",
       "      <td>Crime|Mystery|Thriller</td>\n",
       "    </tr>\n",
       "    <tr>\n",
       "      <th>43975</th>\n",
       "      <td>51919</td>\n",
       "      <td>50</td>\n",
       "      <td>3.0</td>\n",
       "      <td>855389535</td>\n",
       "      <td>Usual Suspects, The (1995)</td>\n",
       "      <td>Crime|Mystery|Thriller</td>\n",
       "    </tr>\n",
       "  </tbody>\n",
       "</table>\n",
       "<p>548 rows × 6 columns</p>\n",
       "</div>"
      ],
      "text/plain": [
       "       userId  movieId  rating   timestamp                       title  \\\n",
       "43428   58587       50     5.0   828012818  Usual Suspects, The (1995)   \n",
       "43429   57418       50     4.0  1076983608  Usual Suspects, The (1995)   \n",
       "43430  102798       50     5.0   976219396  Usual Suspects, The (1995)   \n",
       "43431   98280       50     4.5  1219313964  Usual Suspects, The (1995)   \n",
       "43432   37643       50     4.0   944966400  Usual Suspects, The (1995)   \n",
       "...       ...      ...     ...         ...                         ...   \n",
       "43971  158767       50     4.0   845266676  Usual Suspects, The (1995)   \n",
       "43972   84372       50     5.0  1139184469  Usual Suspects, The (1995)   \n",
       "43973   21112       50     5.0  1439761449  Usual Suspects, The (1995)   \n",
       "43974   72539       50     4.0   843388931  Usual Suspects, The (1995)   \n",
       "43975   51919       50     3.0   855389535  Usual Suspects, The (1995)   \n",
       "\n",
       "                       genres  \n",
       "43428  Crime|Mystery|Thriller  \n",
       "43429  Crime|Mystery|Thriller  \n",
       "43430  Crime|Mystery|Thriller  \n",
       "43431  Crime|Mystery|Thriller  \n",
       "43432  Crime|Mystery|Thriller  \n",
       "...                       ...  \n",
       "43971  Crime|Mystery|Thriller  \n",
       "43972  Crime|Mystery|Thriller  \n",
       "43973  Crime|Mystery|Thriller  \n",
       "43974  Crime|Mystery|Thriller  \n",
       "43975  Crime|Mystery|Thriller  \n",
       "\n",
       "[548 rows x 6 columns]"
      ]
     },
     "execution_count": 79,
     "metadata": {},
     "output_type": "execute_result"
    }
   ],
   "source": [
    "df1[df1['movieId']==50]"
   ]
  },
  {
   "cell_type": "code",
   "execution_count": 80,
   "id": "7de60368",
   "metadata": {},
   "outputs": [],
   "source": [
    "sns.set_style('white')"
   ]
  },
  {
   "cell_type": "code",
   "execution_count": 81,
   "id": "a6aca21c",
   "metadata": {},
   "outputs": [
    {
     "data": {
      "text/plain": [
       "title\n",
       "\"Great Performances\" Cats (1998)          3.000\n",
       "#Horror (2015)                            1.500\n",
       "$ (Dollars) (1971)                        3.000\n",
       "'71 (2014)                                2.375\n",
       "'Master Harold'... and the Boys (1985)    3.000\n",
       "                                          ...  \n",
       "Švestka (1997)                            4.000\n",
       "В движении (2002)                         3.500\n",
       "Демидовы (1983)                           3.000\n",
       "Мартынко (1987)                           3.500\n",
       "Цветик-семицветик (1948)                  2.500\n",
       "Name: rating, Length: 14240, dtype: float64"
      ]
     },
     "execution_count": 81,
     "metadata": {},
     "output_type": "execute_result"
    }
   ],
   "source": [
    "df1.groupby('title')['rating'].mean()"
   ]
  },
  {
   "cell_type": "code",
   "execution_count": 82,
   "id": "c47b780a",
   "metadata": {},
   "outputs": [
    {
     "name": "stdout",
     "output_type": "stream",
     "text": [
      "<class 'pandas.core.frame.DataFrame'>\n",
      "Int64Index: 250001 entries, 0 to 250000\n",
      "Data columns (total 6 columns):\n",
      " #   Column     Non-Null Count   Dtype  \n",
      "---  ------     --------------   -----  \n",
      " 0   userId     250001 non-null  int64  \n",
      " 1   movieId    250001 non-null  int64  \n",
      " 2   rating     250001 non-null  float64\n",
      " 3   timestamp  250001 non-null  int64  \n",
      " 4   title      250001 non-null  object \n",
      " 5   genres     250001 non-null  object \n",
      "dtypes: float64(1), int64(3), object(2)\n",
      "memory usage: 13.4+ MB\n"
     ]
    }
   ],
   "source": [
    "df1.info()"
   ]
  },
  {
   "cell_type": "code",
   "execution_count": 83,
   "id": "a1009120",
   "metadata": {},
   "outputs": [
    {
     "data": {
      "text/plain": [
       "title\n",
       "Lovers of the Café Flore (2006)    5.0\n",
       "Body and Soul (1947)               5.0\n",
       "Unseen (2016)                      5.0\n",
       "Boricua's Bond (2000)              5.0\n",
       "Salomé (1923)                      5.0\n",
       "Name: rating, dtype: float64"
      ]
     },
     "execution_count": 83,
     "metadata": {},
     "output_type": "execute_result"
    }
   ],
   "source": [
    "df1.groupby('title')['rating'].mean().sort_values(ascending=False).head()"
   ]
  },
  {
   "cell_type": "code",
   "execution_count": 84,
   "id": "cd24dde4",
   "metadata": {},
   "outputs": [
    {
     "data": {
      "text/plain": [
       "title\n",
       "Forrest Gump (1994)                          880\n",
       "Shawshank Redemption, The (1994)             817\n",
       "Silence of the Lambs, The (1991)             777\n",
       "Star Wars: Episode IV - A New Hope (1977)    761\n",
       "Pulp Fiction (1994)                          743\n",
       "Name: rating, dtype: int64"
      ]
     },
     "execution_count": 84,
     "metadata": {},
     "output_type": "execute_result"
    }
   ],
   "source": [
    "df1.groupby('title')['rating'].count().sort_values(ascending=False).head()"
   ]
  },
  {
   "cell_type": "code",
   "execution_count": 85,
   "id": "70629716",
   "metadata": {},
   "outputs": [],
   "source": [
    "ratings = pd.DataFrame(df1.groupby('title')['rating'].mean())"
   ]
  },
  {
   "cell_type": "code",
   "execution_count": 86,
   "id": "83eb1c8b",
   "metadata": {},
   "outputs": [
    {
     "data": {
      "text/html": [
       "<div>\n",
       "<style scoped>\n",
       "    .dataframe tbody tr th:only-of-type {\n",
       "        vertical-align: middle;\n",
       "    }\n",
       "\n",
       "    .dataframe tbody tr th {\n",
       "        vertical-align: top;\n",
       "    }\n",
       "\n",
       "    .dataframe thead th {\n",
       "        text-align: right;\n",
       "    }\n",
       "</style>\n",
       "<table border=\"1\" class=\"dataframe\">\n",
       "  <thead>\n",
       "    <tr style=\"text-align: right;\">\n",
       "      <th></th>\n",
       "      <th>rating</th>\n",
       "    </tr>\n",
       "    <tr>\n",
       "      <th>title</th>\n",
       "      <th></th>\n",
       "    </tr>\n",
       "  </thead>\n",
       "  <tbody>\n",
       "    <tr>\n",
       "      <th>\"Great Performances\" Cats (1998)</th>\n",
       "      <td>3.000</td>\n",
       "    </tr>\n",
       "    <tr>\n",
       "      <th>#Horror (2015)</th>\n",
       "      <td>1.500</td>\n",
       "    </tr>\n",
       "    <tr>\n",
       "      <th>$ (Dollars) (1971)</th>\n",
       "      <td>3.000</td>\n",
       "    </tr>\n",
       "    <tr>\n",
       "      <th>'71 (2014)</th>\n",
       "      <td>2.375</td>\n",
       "    </tr>\n",
       "    <tr>\n",
       "      <th>'Master Harold'... and the Boys (1985)</th>\n",
       "      <td>3.000</td>\n",
       "    </tr>\n",
       "  </tbody>\n",
       "</table>\n",
       "</div>"
      ],
      "text/plain": [
       "                                        rating\n",
       "title                                         \n",
       "\"Great Performances\" Cats (1998)         3.000\n",
       "#Horror (2015)                           1.500\n",
       "$ (Dollars) (1971)                       3.000\n",
       "'71 (2014)                               2.375\n",
       "'Master Harold'... and the Boys (1985)   3.000"
      ]
     },
     "execution_count": 86,
     "metadata": {},
     "output_type": "execute_result"
    }
   ],
   "source": [
    "ratings.head()"
   ]
  },
  {
   "cell_type": "code",
   "execution_count": 87,
   "id": "cb98dbeb",
   "metadata": {},
   "outputs": [],
   "source": [
    "ratings['num of ratings'] = pd.DataFrame(df1.groupby('title')['rating'].count())"
   ]
  },
  {
   "cell_type": "code",
   "execution_count": 88,
   "id": "e550b295",
   "metadata": {},
   "outputs": [
    {
     "data": {
      "text/html": [
       "<div>\n",
       "<style scoped>\n",
       "    .dataframe tbody tr th:only-of-type {\n",
       "        vertical-align: middle;\n",
       "    }\n",
       "\n",
       "    .dataframe tbody tr th {\n",
       "        vertical-align: top;\n",
       "    }\n",
       "\n",
       "    .dataframe thead th {\n",
       "        text-align: right;\n",
       "    }\n",
       "</style>\n",
       "<table border=\"1\" class=\"dataframe\">\n",
       "  <thead>\n",
       "    <tr style=\"text-align: right;\">\n",
       "      <th></th>\n",
       "      <th>rating</th>\n",
       "      <th>num of ratings</th>\n",
       "    </tr>\n",
       "    <tr>\n",
       "      <th>title</th>\n",
       "      <th></th>\n",
       "      <th></th>\n",
       "    </tr>\n",
       "  </thead>\n",
       "  <tbody>\n",
       "    <tr>\n",
       "      <th>\"Great Performances\" Cats (1998)</th>\n",
       "      <td>3.000</td>\n",
       "      <td>1</td>\n",
       "    </tr>\n",
       "    <tr>\n",
       "      <th>#Horror (2015)</th>\n",
       "      <td>1.500</td>\n",
       "      <td>1</td>\n",
       "    </tr>\n",
       "    <tr>\n",
       "      <th>$ (Dollars) (1971)</th>\n",
       "      <td>3.000</td>\n",
       "      <td>1</td>\n",
       "    </tr>\n",
       "    <tr>\n",
       "      <th>'71 (2014)</th>\n",
       "      <td>2.375</td>\n",
       "      <td>4</td>\n",
       "    </tr>\n",
       "    <tr>\n",
       "      <th>'Master Harold'... and the Boys (1985)</th>\n",
       "      <td>3.000</td>\n",
       "      <td>1</td>\n",
       "    </tr>\n",
       "  </tbody>\n",
       "</table>\n",
       "</div>"
      ],
      "text/plain": [
       "                                        rating  num of ratings\n",
       "title                                                         \n",
       "\"Great Performances\" Cats (1998)         3.000               1\n",
       "#Horror (2015)                           1.500               1\n",
       "$ (Dollars) (1971)                       3.000               1\n",
       "'71 (2014)                               2.375               4\n",
       "'Master Harold'... and the Boys (1985)   3.000               1"
      ]
     },
     "execution_count": 88,
     "metadata": {},
     "output_type": "execute_result"
    }
   ],
   "source": [
    "ratings.head()"
   ]
  },
  {
   "cell_type": "code",
   "execution_count": 89,
   "id": "c2df7812",
   "metadata": {},
   "outputs": [
    {
     "data": {
      "text/plain": [
       "<AxesSubplot:>"
      ]
     },
     "execution_count": 89,
     "metadata": {},
     "output_type": "execute_result"
    },
    {
     "data": {
      "image/png": "[encoded data removed]",
      "text/plain": [
       "<Figure size 792x504 with 1 Axes>"
      ]
     },
     "metadata": {},
     "output_type": "display_data"
    }
   ],
   "source": [
    "plt.figure(figsize=(11,7))\n",
    "ratings['num of ratings'].hist(bins=20)"
   ]
  },
  {
   "cell_type": "code",
   "execution_count": 90,
   "id": "d0916cd7",
   "metadata": {},
   "outputs": [
    {
     "data": {
      "text/plain": [
       "<AxesSubplot:xlabel='num of ratings', ylabel='Count'>"
      ]
     },
     "execution_count": 90,
     "metadata": {},
     "output_type": "execute_result"
    },
    {
     "data": {
      "image/png": "[encoded data removed]",
      "text/plain": [
       "<Figure size 432x288 with 1 Axes>"
      ]
     },
     "metadata": {},
     "output_type": "display_data"
    }
   ],
   "source": [
    "sns.histplot(data=ratings,x='num of ratings')"
   ]
  },
  {
   "cell_type": "code",
   "execution_count": 91,
   "id": "5c767703",
   "metadata": {},
   "outputs": [
    {
     "data": {
      "text/plain": [
       "<AxesSubplot:>"
      ]
     },
     "execution_count": 91,
     "metadata": {},
     "output_type": "execute_result"
    },
    {
     "data": {
      "image/png": "[encoded data removed]",
      "text/plain": [
       "<Figure size 432x288 with 1 Axes>"
      ]
     },
     "metadata": {},
     "output_type": "display_data"
    }
   ],
   "source": [
    "ratings['rating'].hist(bins=40)"
   ]
  },
  {
   "cell_type": "code",
   "execution_count": 92,
   "id": "34179e0e",
   "metadata": {},
   "outputs": [
    {
     "data": {
      "text/plain": [
       "<seaborn.axisgrid.JointGrid at 0x1ff1a10c2b0>"
      ]
     },
     "execution_count": 92,
     "metadata": {},
     "output_type": "execute_result"
    },
    {
     "data": {
      "image/png": "[encoded data removed]",
      "text/plain": [
       "<Figure size 432x432 with 3 Axes>"
      ]
     },
     "metadata": {},
     "output_type": "display_data"
    }
   ],
   "source": [
    "sns.jointplot(data=ratings,x='rating',y='num of ratings',alpha=0.3)"
   ]
  },
  {
   "cell_type": "code",
   "execution_count": 93,
   "id": "aad584b1",
   "metadata": {},
   "outputs": [
    {
     "data": {
      "text/html": [
       "<div>\n",
       "<style scoped>\n",
       "    .dataframe tbody tr th:only-of-type {\n",
       "        vertical-align: middle;\n",
       "    }\n",
       "\n",
       "    .dataframe tbody tr th {\n",
       "        vertical-align: top;\n",
       "    }\n",
       "\n",
       "    .dataframe thead th {\n",
       "        text-align: right;\n",
       "    }\n",
       "</style>\n",
       "<table border=\"1\" class=\"dataframe\">\n",
       "  <thead>\n",
       "    <tr style=\"text-align: right;\">\n",
       "      <th></th>\n",
       "      <th>userId</th>\n",
       "      <th>movieId</th>\n",
       "      <th>rating</th>\n",
       "      <th>timestamp</th>\n",
       "      <th>title</th>\n",
       "      <th>genres</th>\n",
       "    </tr>\n",
       "  </thead>\n",
       "  <tbody>\n",
       "    <tr>\n",
       "      <th>0</th>\n",
       "      <td>108599</td>\n",
       "      <td>2424</td>\n",
       "      <td>4.0</td>\n",
       "      <td>1153744944</td>\n",
       "      <td>You've Got Mail (1998)</td>\n",
       "      <td>Comedy|Romance</td>\n",
       "    </tr>\n",
       "    <tr>\n",
       "      <th>1</th>\n",
       "      <td>35657</td>\n",
       "      <td>2424</td>\n",
       "      <td>4.0</td>\n",
       "      <td>1167434143</td>\n",
       "      <td>You've Got Mail (1998)</td>\n",
       "      <td>Comedy|Romance</td>\n",
       "    </tr>\n",
       "    <tr>\n",
       "      <th>2</th>\n",
       "      <td>54330</td>\n",
       "      <td>2424</td>\n",
       "      <td>4.0</td>\n",
       "      <td>956590012</td>\n",
       "      <td>You've Got Mail (1998)</td>\n",
       "      <td>Comedy|Romance</td>\n",
       "    </tr>\n",
       "    <tr>\n",
       "      <th>3</th>\n",
       "      <td>139194</td>\n",
       "      <td>2424</td>\n",
       "      <td>5.0</td>\n",
       "      <td>1551582873</td>\n",
       "      <td>You've Got Mail (1998)</td>\n",
       "      <td>Comedy|Romance</td>\n",
       "    </tr>\n",
       "    <tr>\n",
       "      <th>4</th>\n",
       "      <td>55908</td>\n",
       "      <td>2424</td>\n",
       "      <td>5.0</td>\n",
       "      <td>1202130944</td>\n",
       "      <td>You've Got Mail (1998)</td>\n",
       "      <td>Comedy|Romance</td>\n",
       "    </tr>\n",
       "  </tbody>\n",
       "</table>\n",
       "</div>"
      ],
      "text/plain": [
       "   userId  movieId  rating   timestamp                   title          genres\n",
       "0  108599     2424     4.0  1153744944  You've Got Mail (1998)  Comedy|Romance\n",
       "1   35657     2424     4.0  1167434143  You've Got Mail (1998)  Comedy|Romance\n",
       "2   54330     2424     4.0   956590012  You've Got Mail (1998)  Comedy|Romance\n",
       "3  139194     2424     5.0  1551582873  You've Got Mail (1998)  Comedy|Romance\n",
       "4   55908     2424     5.0  1202130944  You've Got Mail (1998)  Comedy|Romance"
      ]
     },
     "execution_count": 93,
     "metadata": {},
     "output_type": "execute_result"
    }
   ],
   "source": [
    "df1.head()"
   ]
  },
  {
   "cell_type": "code",
   "execution_count": null,
   "id": "4def2050",
   "metadata": {},
   "outputs": [],
   "source": [
    "moviemat = df1.pivot_table(index='userId',columns='title',values='rating')"
   ]
  },
  {
   "cell_type": "code",
   "execution_count": null,
   "id": "b439bce6",
   "metadata": {},
   "outputs": [],
   "source": []
  }
 ],
 "metadata": {
  "kernelspec": {
   "display_name": "Python 3 (ipykernel)",
   "language": "python",
   "name": "python3"
  },
  "language_info": {
   "codemirror_mode": {
    "name": "ipython",
    "version": 3
   },
   "file_extension": ".py",
   "mimetype": "text/x-python",
   "name": "python",
   "nbconvert_exporter": "python",
   "pygments_lexer": "ipython3",
   "version": "3.9.7"
  }
 },
 "nbformat": 4,
 "nbformat_minor": 5
}
