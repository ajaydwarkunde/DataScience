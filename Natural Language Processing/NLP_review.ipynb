{
 "cells": [
  {
   "cell_type": "code",
   "execution_count": 1,
   "id": "0d3ab60d",
   "metadata": {},
   "outputs": [],
   "source": [
    "import numpy as np\n",
    "import pandas as pd"
   ]
  },
  {
   "cell_type": "code",
   "execution_count": 2,
   "id": "88f19bd4",
   "metadata": {},
   "outputs": [],
   "source": [
    "import matplotlib.pyplot as plt\n",
    "import seaborn as sns\n",
    "%matplotlib inline\n"
   ]
  },
  {
   "cell_type": "code",
   "execution_count": 4,
   "id": "10a1284b",
   "metadata": {},
   "outputs": [
    {
     "data": {
      "text/html": [
       "<div>\n",
       "<style scoped>\n",
       "    .dataframe tbody tr th:only-of-type {\n",
       "        vertical-align: middle;\n",
       "    }\n",
       "\n",
       "    .dataframe tbody tr th {\n",
       "        vertical-align: top;\n",
       "    }\n",
       "\n",
       "    .dataframe thead th {\n",
       "        text-align: right;\n",
       "    }\n",
       "</style>\n",
       "<table border=\"1\" class=\"dataframe\">\n",
       "  <thead>\n",
       "    <tr style=\"text-align: right;\">\n",
       "      <th></th>\n",
       "      <th>Review</th>\n",
       "      <th>Liked</th>\n",
       "    </tr>\n",
       "  </thead>\n",
       "  <tbody>\n",
       "    <tr>\n",
       "      <th>0</th>\n",
       "      <td>Wow... Loved this place.</td>\n",
       "      <td>1</td>\n",
       "    </tr>\n",
       "    <tr>\n",
       "      <th>1</th>\n",
       "      <td>Crust is not good.</td>\n",
       "      <td>0</td>\n",
       "    </tr>\n",
       "    <tr>\n",
       "      <th>2</th>\n",
       "      <td>Not tasty and the texture was just nasty.</td>\n",
       "      <td>0</td>\n",
       "    </tr>\n",
       "    <tr>\n",
       "      <th>3</th>\n",
       "      <td>Stopped by during the late May bank holiday of...</td>\n",
       "      <td>1</td>\n",
       "    </tr>\n",
       "    <tr>\n",
       "      <th>4</th>\n",
       "      <td>The selection on the menu was great and so wer...</td>\n",
       "      <td>1</td>\n",
       "    </tr>\n",
       "    <tr>\n",
       "      <th>...</th>\n",
       "      <td>...</td>\n",
       "      <td>...</td>\n",
       "    </tr>\n",
       "    <tr>\n",
       "      <th>995</th>\n",
       "      <td>I think food should have flavor and texture an...</td>\n",
       "      <td>0</td>\n",
       "    </tr>\n",
       "    <tr>\n",
       "      <th>996</th>\n",
       "      <td>Appetite instantly gone.</td>\n",
       "      <td>0</td>\n",
       "    </tr>\n",
       "    <tr>\n",
       "      <th>997</th>\n",
       "      <td>Overall I was not impressed and would not go b...</td>\n",
       "      <td>0</td>\n",
       "    </tr>\n",
       "    <tr>\n",
       "      <th>998</th>\n",
       "      <td>The whole experience was underwhelming, and I ...</td>\n",
       "      <td>0</td>\n",
       "    </tr>\n",
       "    <tr>\n",
       "      <th>999</th>\n",
       "      <td>Then, as if I hadn't wasted enough of my life ...</td>\n",
       "      <td>0</td>\n",
       "    </tr>\n",
       "  </tbody>\n",
       "</table>\n",
       "<p>1000 rows × 2 columns</p>\n",
       "</div>"
      ],
      "text/plain": [
       "                                                Review  Liked\n",
       "0                             Wow... Loved this place.      1\n",
       "1                                   Crust is not good.      0\n",
       "2            Not tasty and the texture was just nasty.      0\n",
       "3    Stopped by during the late May bank holiday of...      1\n",
       "4    The selection on the menu was great and so wer...      1\n",
       "..                                                 ...    ...\n",
       "995  I think food should have flavor and texture an...      0\n",
       "996                           Appetite instantly gone.      0\n",
       "997  Overall I was not impressed and would not go b...      0\n",
       "998  The whole experience was underwhelming, and I ...      0\n",
       "999  Then, as if I hadn't wasted enough of my life ...      0\n",
       "\n",
       "[1000 rows x 2 columns]"
      ]
     },
     "execution_count": 4,
     "metadata": {},
     "output_type": "execute_result"
    }
   ],
   "source": [
    "pd.read_csv('Restaurant_Reviews.tsv',sep='\\t')"
   ]
  },
  {
   "cell_type": "code",
   "execution_count": 5,
   "id": "d6dbed97",
   "metadata": {},
   "outputs": [],
   "source": [
    "df = pd.read_csv('yelp_review.csv')"
   ]
  },
  {
   "cell_type": "code",
   "execution_count": 6,
   "id": "f0fa00e1",
   "metadata": {},
   "outputs": [
    {
     "name": "stdout",
     "output_type": "stream",
     "text": [
      "<class 'pandas.core.frame.DataFrame'>\n",
      "RangeIndex: 5261668 entries, 0 to 5261667\n",
      "Data columns (total 9 columns):\n",
      " #   Column       Dtype \n",
      "---  ------       ----- \n",
      " 0   review_id    object\n",
      " 1   user_id      object\n",
      " 2   business_id  object\n",
      " 3   stars        int64 \n",
      " 4   date         object\n",
      " 5   text         object\n",
      " 6   useful       int64 \n",
      " 7   funny        int64 \n",
      " 8   cool         int64 \n",
      "dtypes: int64(4), object(5)\n",
      "memory usage: 361.3+ MB\n"
     ]
    }
   ],
   "source": [
    "df.info()"
   ]
  },
  {
   "cell_type": "code",
   "execution_count": 7,
   "id": "a92dc638",
   "metadata": {},
   "outputs": [],
   "source": [
    "df1 = df.sample(n=10000)"
   ]
  },
  {
   "cell_type": "code",
   "execution_count": 8,
   "id": "029a1bbd",
   "metadata": {},
   "outputs": [
    {
     "data": {
      "text/html": [
       "<div>\n",
       "<style scoped>\n",
       "    .dataframe tbody tr th:only-of-type {\n",
       "        vertical-align: middle;\n",
       "    }\n",
       "\n",
       "    .dataframe tbody tr th {\n",
       "        vertical-align: top;\n",
       "    }\n",
       "\n",
       "    .dataframe thead th {\n",
       "        text-align: right;\n",
       "    }\n",
       "</style>\n",
       "<table border=\"1\" class=\"dataframe\">\n",
       "  <thead>\n",
       "    <tr style=\"text-align: right;\">\n",
       "      <th></th>\n",
       "      <th>review_id</th>\n",
       "      <th>user_id</th>\n",
       "      <th>business_id</th>\n",
       "      <th>stars</th>\n",
       "      <th>date</th>\n",
       "      <th>text</th>\n",
       "      <th>useful</th>\n",
       "      <th>funny</th>\n",
       "      <th>cool</th>\n",
       "    </tr>\n",
       "  </thead>\n",
       "  <tbody>\n",
       "    <tr>\n",
       "      <th>0</th>\n",
       "      <td>vkVSCC7xljjrAI4UGfnKEQ</td>\n",
       "      <td>bv2nCi5Qv5vroFiqKGopiw</td>\n",
       "      <td>AEx2SYEUJmTxVVB18LlCwA</td>\n",
       "      <td>5</td>\n",
       "      <td>2016-05-28</td>\n",
       "      <td>Super simple place but amazing nonetheless. It...</td>\n",
       "      <td>0</td>\n",
       "      <td>0</td>\n",
       "      <td>0</td>\n",
       "    </tr>\n",
       "    <tr>\n",
       "      <th>1</th>\n",
       "      <td>n6QzIUObkYshz4dz2QRJTw</td>\n",
       "      <td>bv2nCi5Qv5vroFiqKGopiw</td>\n",
       "      <td>VR6GpWIda3SfvPC-lg9H3w</td>\n",
       "      <td>5</td>\n",
       "      <td>2016-05-28</td>\n",
       "      <td>Small unassuming place that changes their menu...</td>\n",
       "      <td>0</td>\n",
       "      <td>0</td>\n",
       "      <td>0</td>\n",
       "    </tr>\n",
       "    <tr>\n",
       "      <th>2</th>\n",
       "      <td>MV3CcKScW05u5LVfF6ok0g</td>\n",
       "      <td>bv2nCi5Qv5vroFiqKGopiw</td>\n",
       "      <td>CKC0-MOWMqoeWf6s-szl8g</td>\n",
       "      <td>5</td>\n",
       "      <td>2016-05-28</td>\n",
       "      <td>Lester's is located in a beautiful neighborhoo...</td>\n",
       "      <td>0</td>\n",
       "      <td>0</td>\n",
       "      <td>0</td>\n",
       "    </tr>\n",
       "    <tr>\n",
       "      <th>3</th>\n",
       "      <td>IXvOzsEMYtiJI0CARmj77Q</td>\n",
       "      <td>bv2nCi5Qv5vroFiqKGopiw</td>\n",
       "      <td>ACFtxLv8pGrrxMm6EgjreA</td>\n",
       "      <td>4</td>\n",
       "      <td>2016-05-28</td>\n",
       "      <td>Love coming here. Yes the place always needs t...</td>\n",
       "      <td>0</td>\n",
       "      <td>0</td>\n",
       "      <td>0</td>\n",
       "    </tr>\n",
       "    <tr>\n",
       "      <th>4</th>\n",
       "      <td>L_9BTb55X0GDtThi6GlZ6w</td>\n",
       "      <td>bv2nCi5Qv5vroFiqKGopiw</td>\n",
       "      <td>s2I_Ni76bjJNK9yG60iD-Q</td>\n",
       "      <td>4</td>\n",
       "      <td>2016-05-28</td>\n",
       "      <td>Had their chocolate almond croissant and it wa...</td>\n",
       "      <td>0</td>\n",
       "      <td>0</td>\n",
       "      <td>0</td>\n",
       "    </tr>\n",
       "  </tbody>\n",
       "</table>\n",
       "</div>"
      ],
      "text/plain": [
       "                review_id                 user_id             business_id  \\\n",
       "0  vkVSCC7xljjrAI4UGfnKEQ  bv2nCi5Qv5vroFiqKGopiw  AEx2SYEUJmTxVVB18LlCwA   \n",
       "1  n6QzIUObkYshz4dz2QRJTw  bv2nCi5Qv5vroFiqKGopiw  VR6GpWIda3SfvPC-lg9H3w   \n",
       "2  MV3CcKScW05u5LVfF6ok0g  bv2nCi5Qv5vroFiqKGopiw  CKC0-MOWMqoeWf6s-szl8g   \n",
       "3  IXvOzsEMYtiJI0CARmj77Q  bv2nCi5Qv5vroFiqKGopiw  ACFtxLv8pGrrxMm6EgjreA   \n",
       "4  L_9BTb55X0GDtThi6GlZ6w  bv2nCi5Qv5vroFiqKGopiw  s2I_Ni76bjJNK9yG60iD-Q   \n",
       "\n",
       "   stars        date                                               text  \\\n",
       "0      5  2016-05-28  Super simple place but amazing nonetheless. It...   \n",
       "1      5  2016-05-28  Small unassuming place that changes their menu...   \n",
       "2      5  2016-05-28  Lester's is located in a beautiful neighborhoo...   \n",
       "3      4  2016-05-28  Love coming here. Yes the place always needs t...   \n",
       "4      4  2016-05-28  Had their chocolate almond croissant and it wa...   \n",
       "\n",
       "   useful  funny  cool  \n",
       "0       0      0     0  \n",
       "1       0      0     0  \n",
       "2       0      0     0  \n",
       "3       0      0     0  \n",
       "4       0      0     0  "
      ]
     },
     "execution_count": 8,
     "metadata": {},
     "output_type": "execute_result"
    }
   ],
   "source": [
    "df.head()"
   ]
  },
  {
   "cell_type": "code",
   "execution_count": 9,
   "id": "34cc2bd1",
   "metadata": {},
   "outputs": [
    {
     "data": {
      "text/html": [
       "<div>\n",
       "<style scoped>\n",
       "    .dataframe tbody tr th:only-of-type {\n",
       "        vertical-align: middle;\n",
       "    }\n",
       "\n",
       "    .dataframe tbody tr th {\n",
       "        vertical-align: top;\n",
       "    }\n",
       "\n",
       "    .dataframe thead th {\n",
       "        text-align: right;\n",
       "    }\n",
       "</style>\n",
       "<table border=\"1\" class=\"dataframe\">\n",
       "  <thead>\n",
       "    <tr style=\"text-align: right;\">\n",
       "      <th></th>\n",
       "      <th>stars</th>\n",
       "      <th>useful</th>\n",
       "      <th>funny</th>\n",
       "      <th>cool</th>\n",
       "    </tr>\n",
       "  </thead>\n",
       "  <tbody>\n",
       "    <tr>\n",
       "      <th>count</th>\n",
       "      <td>5.261668e+06</td>\n",
       "      <td>5.261668e+06</td>\n",
       "      <td>5.261668e+06</td>\n",
       "      <td>5.261668e+06</td>\n",
       "    </tr>\n",
       "    <tr>\n",
       "      <th>mean</th>\n",
       "      <td>3.727739e+00</td>\n",
       "      <td>1.385085e+00</td>\n",
       "      <td>5.091961e-01</td>\n",
       "      <td>5.860917e-01</td>\n",
       "    </tr>\n",
       "    <tr>\n",
       "      <th>std</th>\n",
       "      <td>1.433593e+00</td>\n",
       "      <td>4.528727e+00</td>\n",
       "      <td>2.686168e+00</td>\n",
       "      <td>2.233706e+00</td>\n",
       "    </tr>\n",
       "    <tr>\n",
       "      <th>min</th>\n",
       "      <td>1.000000e+00</td>\n",
       "      <td>-1.000000e+00</td>\n",
       "      <td>0.000000e+00</td>\n",
       "      <td>-1.000000e+00</td>\n",
       "    </tr>\n",
       "    <tr>\n",
       "      <th>25%</th>\n",
       "      <td>3.000000e+00</td>\n",
       "      <td>0.000000e+00</td>\n",
       "      <td>0.000000e+00</td>\n",
       "      <td>0.000000e+00</td>\n",
       "    </tr>\n",
       "    <tr>\n",
       "      <th>50%</th>\n",
       "      <td>4.000000e+00</td>\n",
       "      <td>0.000000e+00</td>\n",
       "      <td>0.000000e+00</td>\n",
       "      <td>0.000000e+00</td>\n",
       "    </tr>\n",
       "    <tr>\n",
       "      <th>75%</th>\n",
       "      <td>5.000000e+00</td>\n",
       "      <td>2.000000e+00</td>\n",
       "      <td>0.000000e+00</td>\n",
       "      <td>1.000000e+00</td>\n",
       "    </tr>\n",
       "    <tr>\n",
       "      <th>max</th>\n",
       "      <td>5.000000e+00</td>\n",
       "      <td>3.364000e+03</td>\n",
       "      <td>1.481000e+03</td>\n",
       "      <td>1.105000e+03</td>\n",
       "    </tr>\n",
       "  </tbody>\n",
       "</table>\n",
       "</div>"
      ],
      "text/plain": [
       "              stars        useful         funny          cool\n",
       "count  5.261668e+06  5.261668e+06  5.261668e+06  5.261668e+06\n",
       "mean   3.727739e+00  1.385085e+00  5.091961e-01  5.860917e-01\n",
       "std    1.433593e+00  4.528727e+00  2.686168e+00  2.233706e+00\n",
       "min    1.000000e+00 -1.000000e+00  0.000000e+00 -1.000000e+00\n",
       "25%    3.000000e+00  0.000000e+00  0.000000e+00  0.000000e+00\n",
       "50%    4.000000e+00  0.000000e+00  0.000000e+00  0.000000e+00\n",
       "75%    5.000000e+00  2.000000e+00  0.000000e+00  1.000000e+00\n",
       "max    5.000000e+00  3.364000e+03  1.481000e+03  1.105000e+03"
      ]
     },
     "execution_count": 9,
     "metadata": {},
     "output_type": "execute_result"
    }
   ],
   "source": [
    "df.describe()"
   ]
  },
  {
   "cell_type": "code",
   "execution_count": 10,
   "id": "362693da",
   "metadata": {},
   "outputs": [],
   "source": [
    "df1['text length'] = df1['text'].apply(len)"
   ]
  },
  {
   "cell_type": "code",
   "execution_count": 11,
   "id": "021cfaf1",
   "metadata": {},
   "outputs": [
    {
     "data": {
      "text/html": [
       "<div>\n",
       "<style scoped>\n",
       "    .dataframe tbody tr th:only-of-type {\n",
       "        vertical-align: middle;\n",
       "    }\n",
       "\n",
       "    .dataframe tbody tr th {\n",
       "        vertical-align: top;\n",
       "    }\n",
       "\n",
       "    .dataframe thead th {\n",
       "        text-align: right;\n",
       "    }\n",
       "</style>\n",
       "<table border=\"1\" class=\"dataframe\">\n",
       "  <thead>\n",
       "    <tr style=\"text-align: right;\">\n",
       "      <th></th>\n",
       "      <th>review_id</th>\n",
       "      <th>user_id</th>\n",
       "      <th>business_id</th>\n",
       "      <th>stars</th>\n",
       "      <th>date</th>\n",
       "      <th>text</th>\n",
       "      <th>useful</th>\n",
       "      <th>funny</th>\n",
       "      <th>cool</th>\n",
       "      <th>text length</th>\n",
       "    </tr>\n",
       "  </thead>\n",
       "  <tbody>\n",
       "    <tr>\n",
       "      <th>1596380</th>\n",
       "      <td>pDmHY1FNVHVdAX5p-aCxHQ</td>\n",
       "      <td>sX1V6xS93q1XUaQXLNV70A</td>\n",
       "      <td>eSENXDnnNSo-MLLkWJQ8Vg</td>\n",
       "      <td>4</td>\n",
       "      <td>2014-01-05</td>\n",
       "      <td>My rating is based on experiences from previou...</td>\n",
       "      <td>6</td>\n",
       "      <td>1</td>\n",
       "      <td>2</td>\n",
       "      <td>711</td>\n",
       "    </tr>\n",
       "    <tr>\n",
       "      <th>2189422</th>\n",
       "      <td>rvFy7Onb2-2uYJCLecxBPQ</td>\n",
       "      <td>j_QjvqBttK4cjM7TmG8JBg</td>\n",
       "      <td>DvY_J2gFxudK9HC8kjI3NA</td>\n",
       "      <td>4</td>\n",
       "      <td>2014-09-20</td>\n",
       "      <td>If you haven't tried the straw sandwich,  it i...</td>\n",
       "      <td>1</td>\n",
       "      <td>0</td>\n",
       "      <td>0</td>\n",
       "      <td>184</td>\n",
       "    </tr>\n",
       "    <tr>\n",
       "      <th>4387048</th>\n",
       "      <td>3A6bJIvD9nRI4zdZiQCN7w</td>\n",
       "      <td>vba7wq07lmRsuIrUrlWtXw</td>\n",
       "      <td>OgJ0KxwJcJ9R5bUK0ixCbg</td>\n",
       "      <td>5</td>\n",
       "      <td>2016-06-26</td>\n",
       "      <td>Excellent space to relax, reflect, read, talk....</td>\n",
       "      <td>1</td>\n",
       "      <td>1</td>\n",
       "      <td>1</td>\n",
       "      <td>361</td>\n",
       "    </tr>\n",
       "    <tr>\n",
       "      <th>951194</th>\n",
       "      <td>S_U_k1P1a-ZFV-cpnTA6ig</td>\n",
       "      <td>LYP41bD7PnTWmdVQCll5PA</td>\n",
       "      <td>wUKzaS1MHg94RGM6z8u9mw</td>\n",
       "      <td>4</td>\n",
       "      <td>2016-10-23</td>\n",
       "      <td>I went here for the first time to have dinner ...</td>\n",
       "      <td>2</td>\n",
       "      <td>2</td>\n",
       "      <td>2</td>\n",
       "      <td>730</td>\n",
       "    </tr>\n",
       "    <tr>\n",
       "      <th>904604</th>\n",
       "      <td>2sINLXjngopuUpeCaWxrpw</td>\n",
       "      <td>p-uohP_w26TxI4YPyP3zEw</td>\n",
       "      <td>LUZ94dZpgCmBGyNH52S7lg</td>\n",
       "      <td>4</td>\n",
       "      <td>2017-04-26</td>\n",
       "      <td>The Caesar chicken Brussel sprout is amazing! ...</td>\n",
       "      <td>0</td>\n",
       "      <td>0</td>\n",
       "      <td>0</td>\n",
       "      <td>118</td>\n",
       "    </tr>\n",
       "  </tbody>\n",
       "</table>\n",
       "</div>"
      ],
      "text/plain": [
       "                      review_id                 user_id  \\\n",
       "1596380  pDmHY1FNVHVdAX5p-aCxHQ  sX1V6xS93q1XUaQXLNV70A   \n",
       "2189422  rvFy7Onb2-2uYJCLecxBPQ  j_QjvqBttK4cjM7TmG8JBg   \n",
       "4387048  3A6bJIvD9nRI4zdZiQCN7w  vba7wq07lmRsuIrUrlWtXw   \n",
       "951194   S_U_k1P1a-ZFV-cpnTA6ig  LYP41bD7PnTWmdVQCll5PA   \n",
       "904604   2sINLXjngopuUpeCaWxrpw  p-uohP_w26TxI4YPyP3zEw   \n",
       "\n",
       "                    business_id  stars        date  \\\n",
       "1596380  eSENXDnnNSo-MLLkWJQ8Vg      4  2014-01-05   \n",
       "2189422  DvY_J2gFxudK9HC8kjI3NA      4  2014-09-20   \n",
       "4387048  OgJ0KxwJcJ9R5bUK0ixCbg      5  2016-06-26   \n",
       "951194   wUKzaS1MHg94RGM6z8u9mw      4  2016-10-23   \n",
       "904604   LUZ94dZpgCmBGyNH52S7lg      4  2017-04-26   \n",
       "\n",
       "                                                      text  useful  funny  \\\n",
       "1596380  My rating is based on experiences from previou...       6      1   \n",
       "2189422  If you haven't tried the straw sandwich,  it i...       1      0   \n",
       "4387048  Excellent space to relax, reflect, read, talk....       1      1   \n",
       "951194   I went here for the first time to have dinner ...       2      2   \n",
       "904604   The Caesar chicken Brussel sprout is amazing! ...       0      0   \n",
       "\n",
       "         cool  text length  \n",
       "1596380     2          711  \n",
       "2189422     0          184  \n",
       "4387048     1          361  \n",
       "951194      2          730  \n",
       "904604      0          118  "
      ]
     },
     "execution_count": 11,
     "metadata": {},
     "output_type": "execute_result"
    }
   ],
   "source": [
    "df1.head()"
   ]
  },
  {
   "cell_type": "code",
   "execution_count": 20,
   "id": "90a9ed02",
   "metadata": {},
   "outputs": [],
   "source": [
    "sns.set_style('white')"
   ]
  },
  {
   "cell_type": "code",
   "execution_count": 29,
   "id": "0968a9dc",
   "metadata": {},
   "outputs": [
    {
     "data": {
      "text/plain": [
       "<seaborn.axisgrid.FacetGrid at 0x1bfbe109c70>"
      ]
     },
     "execution_count": 29,
     "metadata": {},
     "output_type": "execute_result"
    },
    {
     "data": {
      "image/png": "[encoded data removed]",
      "text/plain": [
       "<Figure size 1080x216 with 5 Axes>"
      ]
     },
     "metadata": {},
     "output_type": "display_data"
    }
   ],
   "source": [
    "g = sns.FacetGrid(df1, col='stars')\n",
    "g.map(plt.hist,'text length',bins=50)"
   ]
  },
  {
   "cell_type": "code",
   "execution_count": 32,
   "id": "02d44df9",
   "metadata": {},
   "outputs": [
    {
     "data": {
      "text/plain": [
       "<AxesSubplot:xlabel='stars', ylabel='text length'>"
      ]
     },
     "execution_count": 32,
     "metadata": {},
     "output_type": "execute_result"
    },
    {
     "data": {
      "image/png": "[encoded data removed]",
      "text/plain": [
       "<Figure size 1080x576 with 1 Axes>"
      ]
     },
     "metadata": {},
     "output_type": "display_data"
    }
   ],
   "source": [
    "sns.boxplot(x='stars',y='text length',data=df1,palette='viridis')"
   ]
  },
  {
   "cell_type": "code",
   "execution_count": 34,
   "id": "5e578286",
   "metadata": {},
   "outputs": [
    {
     "data": {
      "text/plain": [
       "<AxesSubplot:xlabel='stars', ylabel='count'>"
      ]
     },
     "execution_count": 34,
     "metadata": {},
     "output_type": "execute_result"
    },
    {
     "data": {
      "image/png": "[encoded data removed]",
      "text/plain": [
       "<Figure size 1080x576 with 1 Axes>"
      ]
     },
     "metadata": {},
     "output_type": "display_data"
    }
   ],
   "source": [
    "sns.countplot(x='stars',data=df1,palette='rainbow')"
   ]
  },
  {
   "cell_type": "code",
   "execution_count": 35,
   "id": "f8e28d0d",
   "metadata": {},
   "outputs": [],
   "source": [
    "stars = df1.groupby('stars').mean()"
   ]
  },
  {
   "cell_type": "code",
   "execution_count": 36,
   "id": "bdd60504",
   "metadata": {},
   "outputs": [
    {
     "data": {
      "text/html": [
       "<div>\n",
       "<style scoped>\n",
       "    .dataframe tbody tr th:only-of-type {\n",
       "        vertical-align: middle;\n",
       "    }\n",
       "\n",
       "    .dataframe tbody tr th {\n",
       "        vertical-align: top;\n",
       "    }\n",
       "\n",
       "    .dataframe thead th {\n",
       "        text-align: right;\n",
       "    }\n",
       "</style>\n",
       "<table border=\"1\" class=\"dataframe\">\n",
       "  <thead>\n",
       "    <tr style=\"text-align: right;\">\n",
       "      <th></th>\n",
       "      <th>useful</th>\n",
       "      <th>funny</th>\n",
       "      <th>cool</th>\n",
       "      <th>text length</th>\n",
       "    </tr>\n",
       "    <tr>\n",
       "      <th>stars</th>\n",
       "      <th></th>\n",
       "      <th></th>\n",
       "      <th></th>\n",
       "      <th></th>\n",
       "    </tr>\n",
       "  </thead>\n",
       "  <tbody>\n",
       "    <tr>\n",
       "      <th>1</th>\n",
       "      <td>2.031410</td>\n",
       "      <td>0.699050</td>\n",
       "      <td>0.256392</td>\n",
       "      <td>754.495252</td>\n",
       "    </tr>\n",
       "    <tr>\n",
       "      <th>2</th>\n",
       "      <td>1.732515</td>\n",
       "      <td>0.739877</td>\n",
       "      <td>0.376687</td>\n",
       "      <td>782.461350</td>\n",
       "    </tr>\n",
       "    <tr>\n",
       "      <th>3</th>\n",
       "      <td>1.426080</td>\n",
       "      <td>0.647010</td>\n",
       "      <td>0.772425</td>\n",
       "      <td>742.888704</td>\n",
       "    </tr>\n",
       "    <tr>\n",
       "      <th>4</th>\n",
       "      <td>1.298880</td>\n",
       "      <td>0.552110</td>\n",
       "      <td>0.831180</td>\n",
       "      <td>637.207580</td>\n",
       "    </tr>\n",
       "    <tr>\n",
       "      <th>5</th>\n",
       "      <td>1.048718</td>\n",
       "      <td>0.287179</td>\n",
       "      <td>0.491142</td>\n",
       "      <td>493.124942</td>\n",
       "    </tr>\n",
       "  </tbody>\n",
       "</table>\n",
       "</div>"
      ],
      "text/plain": [
       "         useful     funny      cool  text length\n",
       "stars                                           \n",
       "1      2.031410  0.699050  0.256392   754.495252\n",
       "2      1.732515  0.739877  0.376687   782.461350\n",
       "3      1.426080  0.647010  0.772425   742.888704\n",
       "4      1.298880  0.552110  0.831180   637.207580\n",
       "5      1.048718  0.287179  0.491142   493.124942"
      ]
     },
     "execution_count": 36,
     "metadata": {},
     "output_type": "execute_result"
    }
   ],
   "source": [
    "stars.head()"
   ]
  },
  {
   "cell_type": "code",
   "execution_count": 37,
   "id": "e5dc8106",
   "metadata": {},
   "outputs": [
    {
     "data": {
      "text/html": [
       "<div>\n",
       "<style scoped>\n",
       "    .dataframe tbody tr th:only-of-type {\n",
       "        vertical-align: middle;\n",
       "    }\n",
       "\n",
       "    .dataframe tbody tr th {\n",
       "        vertical-align: top;\n",
       "    }\n",
       "\n",
       "    .dataframe thead th {\n",
       "        text-align: right;\n",
       "    }\n",
       "</style>\n",
       "<table border=\"1\" class=\"dataframe\">\n",
       "  <thead>\n",
       "    <tr style=\"text-align: right;\">\n",
       "      <th></th>\n",
       "      <th>useful</th>\n",
       "      <th>funny</th>\n",
       "      <th>cool</th>\n",
       "      <th>text length</th>\n",
       "    </tr>\n",
       "  </thead>\n",
       "  <tbody>\n",
       "    <tr>\n",
       "      <th>useful</th>\n",
       "      <td>1.000000</td>\n",
       "      <td>0.842540</td>\n",
       "      <td>-0.636303</td>\n",
       "      <td>0.831746</td>\n",
       "    </tr>\n",
       "    <tr>\n",
       "      <th>funny</th>\n",
       "      <td>0.842540</td>\n",
       "      <td>1.000000</td>\n",
       "      <td>-0.212480</td>\n",
       "      <td>0.991189</td>\n",
       "    </tr>\n",
       "    <tr>\n",
       "      <th>cool</th>\n",
       "      <td>-0.636303</td>\n",
       "      <td>-0.212480</td>\n",
       "      <td>1.000000</td>\n",
       "      <td>-0.224439</td>\n",
       "    </tr>\n",
       "    <tr>\n",
       "      <th>text length</th>\n",
       "      <td>0.831746</td>\n",
       "      <td>0.991189</td>\n",
       "      <td>-0.224439</td>\n",
       "      <td>1.000000</td>\n",
       "    </tr>\n",
       "  </tbody>\n",
       "</table>\n",
       "</div>"
      ],
      "text/plain": [
       "               useful     funny      cool  text length\n",
       "useful       1.000000  0.842540 -0.636303     0.831746\n",
       "funny        0.842540  1.000000 -0.212480     0.991189\n",
       "cool        -0.636303 -0.212480  1.000000    -0.224439\n",
       "text length  0.831746  0.991189 -0.224439     1.000000"
      ]
     },
     "execution_count": 37,
     "metadata": {},
     "output_type": "execute_result"
    }
   ],
   "source": [
    "stars.corr()"
   ]
  },
  {
   "cell_type": "code",
   "execution_count": 39,
   "id": "b9a910a3",
   "metadata": {},
   "outputs": [
    {
     "data": {
      "text/plain": [
       "<AxesSubplot:>"
      ]
     },
     "execution_count": 39,
     "metadata": {},
     "output_type": "execute_result"
    },
    {
     "data": {
      "image/png": "[encoded data removed]",
      "text/plain": [
       "<Figure size 1080x576 with 2 Axes>"
      ]
     },
     "metadata": {},
     "output_type": "display_data"
    }
   ],
   "source": [
    "sns.heatmap(stars.corr(),cmap='coolwarm',annot=True)"
   ]
  },
  {
   "cell_type": "code",
   "execution_count": 40,
   "id": "78dd3e2e",
   "metadata": {},
   "outputs": [],
   "source": [
    "df_class = df1[(df1['stars']==1) | (df1['stars']==5)]"
   ]
  },
  {
   "cell_type": "code",
   "execution_count": 41,
   "id": "b12812d0",
   "metadata": {},
   "outputs": [
    {
     "data": {
      "text/html": [
       "<div>\n",
       "<style scoped>\n",
       "    .dataframe tbody tr th:only-of-type {\n",
       "        vertical-align: middle;\n",
       "    }\n",
       "\n",
       "    .dataframe tbody tr th {\n",
       "        vertical-align: top;\n",
       "    }\n",
       "\n",
       "    .dataframe thead th {\n",
       "        text-align: right;\n",
       "    }\n",
       "</style>\n",
       "<table border=\"1\" class=\"dataframe\">\n",
       "  <thead>\n",
       "    <tr style=\"text-align: right;\">\n",
       "      <th></th>\n",
       "      <th>review_id</th>\n",
       "      <th>user_id</th>\n",
       "      <th>business_id</th>\n",
       "      <th>stars</th>\n",
       "      <th>date</th>\n",
       "      <th>text</th>\n",
       "      <th>useful</th>\n",
       "      <th>funny</th>\n",
       "      <th>cool</th>\n",
       "      <th>text length</th>\n",
       "    </tr>\n",
       "  </thead>\n",
       "  <tbody>\n",
       "    <tr>\n",
       "      <th>4387048</th>\n",
       "      <td>3A6bJIvD9nRI4zdZiQCN7w</td>\n",
       "      <td>vba7wq07lmRsuIrUrlWtXw</td>\n",
       "      <td>OgJ0KxwJcJ9R5bUK0ixCbg</td>\n",
       "      <td>5</td>\n",
       "      <td>2016-06-26</td>\n",
       "      <td>Excellent space to relax, reflect, read, talk....</td>\n",
       "      <td>1</td>\n",
       "      <td>1</td>\n",
       "      <td>1</td>\n",
       "      <td>361</td>\n",
       "    </tr>\n",
       "    <tr>\n",
       "      <th>3995485</th>\n",
       "      <td>xzPf-_NMxqBAb9PQwRv_kg</td>\n",
       "      <td>lKnF4MitVC7dEcrhQEinHg</td>\n",
       "      <td>VsewHMsfj1Mgsl2i_hio7w</td>\n",
       "      <td>1</td>\n",
       "      <td>2011-08-03</td>\n",
       "      <td>LAVO pretty much ruined my Vegas trip. We were...</td>\n",
       "      <td>6</td>\n",
       "      <td>2</td>\n",
       "      <td>1</td>\n",
       "      <td>2459</td>\n",
       "    </tr>\n",
       "    <tr>\n",
       "      <th>263391</th>\n",
       "      <td>pMvul8qJeYQVqNhNYOCVEw</td>\n",
       "      <td>DlqdkcwoOUL-65TLLPFvcg</td>\n",
       "      <td>IvTpZowBC7_4N5xTXsaQpA</td>\n",
       "      <td>1</td>\n",
       "      <td>2015-09-27</td>\n",
       "      <td>Just ordered a pizza at midnight i called it i...</td>\n",
       "      <td>0</td>\n",
       "      <td>1</td>\n",
       "      <td>0</td>\n",
       "      <td>495</td>\n",
       "    </tr>\n",
       "    <tr>\n",
       "      <th>1195567</th>\n",
       "      <td>7GQvr4aZ58fTI6CJrbVRPg</td>\n",
       "      <td>WInKG1bvOv6vjhF5rZyGIw</td>\n",
       "      <td>3_QNAH8yVzY0sBPftWyNhQ</td>\n",
       "      <td>5</td>\n",
       "      <td>2012-11-29</td>\n",
       "      <td>My husband and I were in Vegas earlier this mo...</td>\n",
       "      <td>6</td>\n",
       "      <td>1</td>\n",
       "      <td>3</td>\n",
       "      <td>886</td>\n",
       "    </tr>\n",
       "    <tr>\n",
       "      <th>2382065</th>\n",
       "      <td>P1wPVFQ4i0CFrdj8WIDXfQ</td>\n",
       "      <td>z7Zhb83spub2EATRz8y6HA</td>\n",
       "      <td>1sJs8rfowekLK_yDWB9ocg</td>\n",
       "      <td>1</td>\n",
       "      <td>2014-05-14</td>\n",
       "      <td>I loved loved the Aveda salon and spa I went t...</td>\n",
       "      <td>7</td>\n",
       "      <td>1</td>\n",
       "      <td>0</td>\n",
       "      <td>1226</td>\n",
       "    </tr>\n",
       "  </tbody>\n",
       "</table>\n",
       "</div>"
      ],
      "text/plain": [
       "                      review_id                 user_id  \\\n",
       "4387048  3A6bJIvD9nRI4zdZiQCN7w  vba7wq07lmRsuIrUrlWtXw   \n",
       "3995485  xzPf-_NMxqBAb9PQwRv_kg  lKnF4MitVC7dEcrhQEinHg   \n",
       "263391   pMvul8qJeYQVqNhNYOCVEw  DlqdkcwoOUL-65TLLPFvcg   \n",
       "1195567  7GQvr4aZ58fTI6CJrbVRPg  WInKG1bvOv6vjhF5rZyGIw   \n",
       "2382065  P1wPVFQ4i0CFrdj8WIDXfQ  z7Zhb83spub2EATRz8y6HA   \n",
       "\n",
       "                    business_id  stars        date  \\\n",
       "4387048  OgJ0KxwJcJ9R5bUK0ixCbg      5  2016-06-26   \n",
       "3995485  VsewHMsfj1Mgsl2i_hio7w      1  2011-08-03   \n",
       "263391   IvTpZowBC7_4N5xTXsaQpA      1  2015-09-27   \n",
       "1195567  3_QNAH8yVzY0sBPftWyNhQ      5  2012-11-29   \n",
       "2382065  1sJs8rfowekLK_yDWB9ocg      1  2014-05-14   \n",
       "\n",
       "                                                      text  useful  funny  \\\n",
       "4387048  Excellent space to relax, reflect, read, talk....       1      1   \n",
       "3995485  LAVO pretty much ruined my Vegas trip. We were...       6      2   \n",
       "263391   Just ordered a pizza at midnight i called it i...       0      1   \n",
       "1195567  My husband and I were in Vegas earlier this mo...       6      1   \n",
       "2382065  I loved loved the Aveda salon and spa I went t...       7      1   \n",
       "\n",
       "         cool  text length  \n",
       "4387048     1          361  \n",
       "3995485     1         2459  \n",
       "263391      0          495  \n",
       "1195567     3          886  \n",
       "2382065     0         1226  "
      ]
     },
     "execution_count": 41,
     "metadata": {},
     "output_type": "execute_result"
    }
   ],
   "source": [
    "df_class.head()"
   ]
  },
  {
   "cell_type": "code",
   "execution_count": 42,
   "id": "f59b0258",
   "metadata": {},
   "outputs": [
    {
     "name": "stdout",
     "output_type": "stream",
     "text": [
      "<class 'pandas.core.frame.DataFrame'>\n",
      "Int64Index: 5659 entries, 4387048 to 1610581\n",
      "Data columns (total 10 columns):\n",
      " #   Column       Non-Null Count  Dtype \n",
      "---  ------       --------------  ----- \n",
      " 0   review_id    5659 non-null   object\n",
      " 1   user_id      5659 non-null   object\n",
      " 2   business_id  5659 non-null   object\n",
      " 3   stars        5659 non-null   int64 \n",
      " 4   date         5659 non-null   object\n",
      " 5   text         5659 non-null   object\n",
      " 6   useful       5659 non-null   int64 \n",
      " 7   funny        5659 non-null   int64 \n",
      " 8   cool         5659 non-null   int64 \n",
      " 9   text length  5659 non-null   int64 \n",
      "dtypes: int64(5), object(5)\n",
      "memory usage: 486.3+ KB\n"
     ]
    }
   ],
   "source": [
    "df_class.info()"
   ]
  },
  {
   "cell_type": "code",
   "execution_count": 43,
   "id": "d245c330",
   "metadata": {},
   "outputs": [],
   "source": [
    "X = df_class['text']\n",
    "y = df_class['stars']"
   ]
  },
  {
   "cell_type": "code",
   "execution_count": 44,
   "id": "c4d5d50b",
   "metadata": {},
   "outputs": [],
   "source": [
    "from sklearn.feature_extraction.text import CountVectorizer"
   ]
  },
  {
   "cell_type": "code",
   "execution_count": 45,
   "id": "08e6150c",
   "metadata": {},
   "outputs": [],
   "source": [
    "cv = CountVectorizer()"
   ]
  },
  {
   "cell_type": "code",
   "execution_count": 46,
   "id": "d4747736",
   "metadata": {},
   "outputs": [],
   "source": [
    "X = cv.fit_transform(X)"
   ]
  },
  {
   "cell_type": "code",
   "execution_count": 47,
   "id": "524468e2",
   "metadata": {},
   "outputs": [],
   "source": [
    "from sklearn.model_selection import train_test_split"
   ]
  },
  {
   "cell_type": "code",
   "execution_count": 48,
   "id": "dd011a03",
   "metadata": {},
   "outputs": [],
   "source": [
    "X_train, X_test, y_train, y_test = train_test_split(X, y, test_size=0.3, random_state=101)"
   ]
  },
  {
   "cell_type": "code",
   "execution_count": 49,
   "id": "96de4940",
   "metadata": {},
   "outputs": [],
   "source": [
    "from sklearn.naive_bayes import MultinomialNB"
   ]
  },
  {
   "cell_type": "code",
   "execution_count": 50,
   "id": "a125e1d3",
   "metadata": {},
   "outputs": [],
   "source": [
    "nb= MultinomialNB()"
   ]
  },
  {
   "cell_type": "code",
   "execution_count": 51,
   "id": "4db625f4",
   "metadata": {},
   "outputs": [
    {
     "data": {
      "text/plain": [
       "MultinomialNB()"
      ]
     },
     "execution_count": 51,
     "metadata": {},
     "output_type": "execute_result"
    }
   ],
   "source": [
    "nb.fit(X_train,y_train)"
   ]
  },
  {
   "cell_type": "code",
   "execution_count": 52,
   "id": "76a88505",
   "metadata": {},
   "outputs": [],
   "source": [
    "predictions = nb.predict(X_test)"
   ]
  },
  {
   "cell_type": "code",
   "execution_count": 53,
   "id": "c7af50bd",
   "metadata": {},
   "outputs": [],
   "source": [
    "from sklearn.metrics import classification_report,confusion_matrix"
   ]
  },
  {
   "cell_type": "code",
   "execution_count": 54,
   "id": "bd663457",
   "metadata": {},
   "outputs": [
    {
     "name": "stdout",
     "output_type": "stream",
     "text": [
      "              precision    recall  f1-score   support\n",
      "\n",
      "           1       0.84      0.86      0.85       403\n",
      "           5       0.96      0.95      0.95      1295\n",
      "\n",
      "    accuracy                           0.93      1698\n",
      "   macro avg       0.90      0.90      0.90      1698\n",
      "weighted avg       0.93      0.93      0.93      1698\n",
      "\n"
     ]
    }
   ],
   "source": [
    "print(classification_report(y_test,predictions))"
   ]
  },
  {
   "cell_type": "code",
   "execution_count": 55,
   "id": "2e82887a",
   "metadata": {},
   "outputs": [
    {
     "name": "stdout",
     "output_type": "stream",
     "text": [
      "[[ 346   57]\n",
      " [  66 1229]]\n"
     ]
    }
   ],
   "source": [
    "print(confusion_matrix(y_test,predictions))"
   ]
  },
  {
   "cell_type": "code",
   "execution_count": 56,
   "id": "66cbae42",
   "metadata": {},
   "outputs": [],
   "source": [
    "from sklearn.feature_extraction.text import TfidfTransformer"
   ]
  },
  {
   "cell_type": "code",
   "execution_count": 57,
   "id": "344d294c",
   "metadata": {},
   "outputs": [],
   "source": [
    "from sklearn.pipeline import Pipeline"
   ]
  },
  {
   "cell_type": "code",
   "execution_count": 58,
   "id": "89f3fdac",
   "metadata": {},
   "outputs": [],
   "source": [
    "pipe = Pipeline([\n",
    "    ('bow',CountVectorizer()),\n",
    "    ('tfidf',TfidfTransformer()),\n",
    "    ('model',MultinomialNB())\n",
    "])"
   ]
  },
  {
   "cell_type": "code",
   "execution_count": 66,
   "id": "1fc85fe5",
   "metadata": {},
   "outputs": [],
   "source": [
    "X = df_class['text']\n",
    "y = df_class['stars']"
   ]
  },
  {
   "cell_type": "code",
   "execution_count": 67,
   "id": "a1f29eff",
   "metadata": {},
   "outputs": [],
   "source": [
    "X_train, X_test, y_train, y_test = train_test_split(X, y, test_size=0.3, random_state=101)"
   ]
  },
  {
   "cell_type": "code",
   "execution_count": 68,
   "id": "86159dbe",
   "metadata": {},
   "outputs": [
    {
     "data": {
      "text/plain": [
       "Pipeline(steps=[('bow', CountVectorizer()), ('tfidf', TfidfTransformer()),\n",
       "                ('model', MultinomialNB())])"
      ]
     },
     "execution_count": 68,
     "metadata": {},
     "output_type": "execute_result"
    }
   ],
   "source": [
    "pipe.fit(X_train,y_train)"
   ]
  },
  {
   "cell_type": "code",
   "execution_count": 69,
   "id": "b309c770",
   "metadata": {},
   "outputs": [],
   "source": [
    "predictions = pipe.predict(X_test)"
   ]
  },
  {
   "cell_type": "code",
   "execution_count": 70,
   "id": "499a62f5",
   "metadata": {},
   "outputs": [
    {
     "name": "stdout",
     "output_type": "stream",
     "text": [
      "              precision    recall  f1-score   support\n",
      "\n",
      "           1       1.00      0.01      0.02       403\n",
      "           5       0.76      1.00      0.87      1295\n",
      "\n",
      "    accuracy                           0.77      1698\n",
      "   macro avg       0.88      0.50      0.44      1698\n",
      "weighted avg       0.82      0.77      0.67      1698\n",
      "\n"
     ]
    }
   ],
   "source": [
    "print(classification_report(y_test,predictions))"
   ]
  },
  {
   "cell_type": "code",
   "execution_count": 71,
   "id": "12d284f0",
   "metadata": {},
   "outputs": [
    {
     "name": "stdout",
     "output_type": "stream",
     "text": [
      "[[   4  399]\n",
      " [   0 1295]]\n"
     ]
    }
   ],
   "source": [
    "print(confusion_matrix(y_test,predictions))"
   ]
  },
  {
   "cell_type": "code",
   "execution_count": null,
   "id": "e1f12dfa",
   "metadata": {},
   "outputs": [],
   "source": []
  }
 ],
 "metadata": {
  "kernelspec": {
   "display_name": "Python 3 (ipykernel)",
   "language": "python",
   "name": "python3"
  },
  "language_info": {
   "codemirror_mode": {
    "name": "ipython",
    "version": 3
   },
   "file_extension": ".py",
   "mimetype": "text/x-python",
   "name": "python",
   "nbconvert_exporter": "python",
   "pygments_lexer": "ipython3",
   "version": "3.9.7"
  }
 },
 "nbformat": 4,
 "nbformat_minor": 5
}
